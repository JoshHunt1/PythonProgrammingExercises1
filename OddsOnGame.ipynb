{
 "cells": [
  {
   "cell_type": "markdown",
   "metadata": {},
   "source": [
    "## Odds On Game"
   ]
  },
  {
   "cell_type": "code",
   "execution_count": null,
   "metadata": {},
   "outputs": [],
   "source": [
    "import time\n",
    "#import random\n",
    "from random import randint \n",
    "\n",
    "\n",
    "dares = [\"Add Me On Snapchat: josh21hunt\", \"Follow @_J_Hunt_ on Instagram\",\"Shout out josh21hunt on your snapchat\",\"shout out _J_Hunt_ on instagram\",\"lick the floor\",\"kiss santa's raindeers\"]\n",
    "name = input(\"Select a Username...\")\n",
    "time.sleep(0.8)\n",
    "print(\"Lets play odds on\")\n",
    "number = int(input(\"Pick a number between 1 and 6 = \"))\n",
    "\n",
    "num = randint (1, 6)\n",
    "time.sleep(0.8)\n",
    "print ('my number is...', num)\n",
    "time.sleep(1)\n",
    "\n",
    "if number == num:\n",
    "    print(\"if our numbers are the same, you have to complete my dare.\")\n",
    "    print(\"your dare is...\", dares [num])\n",
    "else:\n",
    "    print(\"you were lucky this time...\")\n",
    "    print(\"Play again, test yor luck...\")"
   ]
  },
  {
   "cell_type": "code",
   "execution_count": null,
   "metadata": {},
   "outputs": [],
   "source": []
  },
  {
   "cell_type": "code",
   "execution_count": null,
   "metadata": {},
   "outputs": [],
   "source": []
  }
 ],
 "metadata": {
  "kernelspec": {
   "display_name": "Python 3",
   "language": "python",
   "name": "python3"
  },
  "language_info": {
   "codemirror_mode": {
    "name": "ipython",
    "version": 3
   },
   "file_extension": ".py",
   "mimetype": "text/x-python",
   "name": "python",
   "nbconvert_exporter": "python",
   "pygments_lexer": "ipython3",
   "version": "3.5.2"
  }
 },
 "nbformat": 4,
 "nbformat_minor": 2
}
